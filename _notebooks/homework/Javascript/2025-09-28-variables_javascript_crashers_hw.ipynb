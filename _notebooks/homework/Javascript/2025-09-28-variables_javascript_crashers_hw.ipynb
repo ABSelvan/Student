{
 "cells": [
  {
   "cell_type": "raw",
   "id": "f7d70aa2",
   "metadata": {
    "vscode": {
     "languageId": "raw"
    }
   },
   "source": [
    "---\n",
    "layout: base\n",
    "title: \"3.1 Variables & Assignments hacks\"\n",
    "categories: [Programming Fundamentals, Tutorial]\n",
    "tags: [python, javascript, variables, assignment, beginner]\n",
    "description: Apply your understanding of Variables & Assignments with these hacks\n",
    "author: Aditya Srivastava, Laya Balaji\n",
    "permalink: /javascript/variables/crashers-hw\n",
    "---"
   ]
  },
  {
   "cell_type": "markdown",
   "id": "ce56910b",
   "metadata": {},
   "source": [
    "# 🐷 Peppa Maze Variables & Assignments Hacks\n",
    "Welcome to the Peppa Maze hacks! These challenges will test your understanding of variables, assignments, and logic in Javascript. Read each task, then write or modify code to solve it."
   ]
  },
  {
   "cell_type": "markdown",
   "id": "7dee3bb5",
   "metadata": {},
   "source": [
    "## Hack 1: JavaScript - Variable Assignment, Naming, and Operators\n",
    "Create variables for Peppa's name, score, and level using good JavaScript naming conventions. Assign initial values, then use operators to update score (add 10) and level (multiply by 2). Print all results."
   ]
  },
  {
   "cell_type": "code",
   "execution_count": null,
   "id": "e4bee113",
   "metadata": {},
   "outputs": [],
   "source": [
    "// Write your code here\n",
    "// Create variables for Peppa's name, score, and level\n",
    "// Use operators to update score and level\n"
   ]
  },
  {
   "cell_type": "markdown",
   "id": "3f8a5cbe",
   "metadata": {},
   "source": [
    "## Hack 2: JavaScript - Variable Declaration, Assignment, and Operators\n",
    "Declare variables for Peppa and George's scores using good JavaScript naming conventions. Assign initial values, then use operators to update both scores (e.g., Peppa gets 15 points, George loses 5 points). Print both scores."
   ]
  },
  {
   "cell_type": "code",
   "execution_count": null,
   "id": "c4c80df3",
   "metadata": {},
   "outputs": [
    {
     "name": "stdout",
     "output_type": "stream",
     "text": [
      "Peppa is winning!\n",
      "Final Scores - Peppa: 5, George: 3\n"
     ]
    }
   ],
   "source": [
    "// Write your code here\n",
    "\n",
    "// Declare variables for Peppa and George's scores\n",
    "let peppaScore = 0;\n",
    "let georgeScore = 0;\n",
    "// Use operators to update both scores  \n",
    "peppaScore = peppaScore + 5; \n",
    "georgeScore = georgeScore + 3; \n",
    "// Use comparison operators to determine who is winning\n",
    "if (peppaScore > georgeScore) {\n",
    "    console.log(\"Peppa is winning!\");\n",
    "} else if (georgeScore > peppaScore) {\n",
    "    console.log(\"George is winning!\");\n",
    "} else {\n",
    "    console.log(\"It's a tie!\");\n",
    "}\n",
    "// Print final scores\n",
    "console.log(`Final Scores - Peppa: ${peppaScore}, George: ${georgeScore}`);\n"
   ]
  },
  {
   "cell_type": "markdown",
   "id": "30580c24",
   "metadata": {},
   "source": [
    "## Hack 3: JavaScript - Multiple Assignment and Math Operators\n",
    "Peppa and George both start at level 1. Use a single line to assign both their levels to 5. Then, calculate a combined score by multiplying their levels together and multiplying by 10. Print all results."
   ]
  },
  {
   "cell_type": "code",
   "execution_count": 2,
   "id": "67774ff3",
   "metadata": {},
   "outputs": [
    {
     "name": "stdout",
     "output_type": "stream",
     "text": [
      "Peppa's Level: 5\n",
      "George's Level: 5\n",
      "Combined Score: 250\n"
     ]
    }
   ],
   "source": [
    "// Write your code here\n",
    "// let peppaLevel = 1, georgeLevel = 1;\n",
    "let peppaLevel, georgeLevel;\n",
    "peppaLevel = georgeLevel = 5;\n",
    "let combinedScore = peppaLevel * georgeLevel * 10;\n",
    "console.log(`Peppa's Level: ${peppaLevel}`);\n",
    "console.log(`George's Level: ${georgeLevel}`);\n",
    "console.log(`Combined Score: ${combinedScore}`);\n"
   ]
  }
 ],
 "metadata": {
  "kernelspec": {
   "display_name": "JavaScript",
   "language": "javascript",
   "name": "jslab"
  },
  "language_info": {
   "file_extension": ".js",
   "mimetype": "text/javascript",
   "name": "javascript",
   "version": ""
  }
 },
 "nbformat": 4,
 "nbformat_minor": 5
}
