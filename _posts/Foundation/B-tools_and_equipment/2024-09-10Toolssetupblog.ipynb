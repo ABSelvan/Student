{
 "cells": [
  {
   "cell_type": "markdown",
   "id": "4722f858",
   "metadata": {},
   "source": [
    "# 🖥️ My AP CSP Setup and First Canvas Project"
   ]
  },
  {
   "cell_type": "markdown",
   "id": "fec48e2d",
   "metadata": {},
   "source": [
    "\n",
    "Welcome to my **AP Computer Science Principles (CSP)** blog! 🎉  \n",
    "\n",
    "This notebook will walk through:  \n",
    "1. How I installed the tools I need (VS Code, Git, Node.js, Jupyter).  \n",
    "2. How I set up my environment for coding.  \n",
    "3. My first web-based project using **HTML Canvas and JavaScript**.  \n"
   ]
  },
  {
   "cell_type": "markdown",
   "id": "d22812d2",
   "metadata": {},
   "source": [
    "\n",
    "## 🔧 Installing Visual Studio Code\n",
    "\n",
    "- I went to [https://code.visualstudio.com](https://code.visualstudio.com)  \n",
    "- Downloaded the version for my operating system (Windows/Mac/Linux).  \n",
    "- Installed it with the default options.  \n",
    "- Added extensions:  \n",
    "  - **Prettier - Code Formatter** (for clean code)  \n",
    "  - **Live Server** (to preview web pages in the browser)  \n",
    "  - **Jupyter** (to run notebooks inside VS Code).  \n"
   ]
  },
  {
   "cell_type": "markdown",
   "id": "e766003f",
   "metadata": {},
   "source": [
    "\n",
    "## 🌐 Installing Git and Setting Up GitHub\n",
    "\n",
    "- Installed Git from [https://git-scm.com/downloads](https://git-scm.com/downloads).  \n",
    "- Opened a terminal and checked it with:  \n",
    "```bash\n",
    "git --version\n",
    "```\n",
    "- Created a free GitHub account at [https://github.com](https://github.com).  \n",
    "- Set up SSH keys to connect VS Code with GitHub for pushing my code.  \n"
   ]
  },
  {
   "cell_type": "markdown",
   "id": "4dbf426d",
   "metadata": {},
   "source": [
    "\n",
    "## ⚡ Installing Node.js (Optional for Web Projects)\n",
    "\n",
    "- Downloaded Node.js LTS from [https://nodejs.org](https://nodejs.org).  \n",
    "- Verified installation with:  \n",
    "```bash\n",
    "node -v\n",
    "npm -v\n",
    "```\n",
    "- This helps with running JavaScript outside the browser and using tools like package managers.  \n"
   ]
  },
  {
   "cell_type": "markdown",
   "id": "6c4e14eb",
   "metadata": {},
   "source": [
    "\n",
    "## 📓 Setting Up Jupyter Notebooks\n",
    "\n",
    "- Installed Python from [https://www.python.org](https://www.python.org).  \n",
    "- Installed Jupyter with pip:  \n",
    "```bash\n",
    "pip install notebook\n",
    "```\n",
    "- In VS Code, I installed the **Python** and **Jupyter** extensions.  \n",
    "- Now I can open `.ipynb` notebooks directly in VS Code.  \n"
   ]
  },
  {
   "cell_type": "markdown",
   "id": "b5ed41bc",
   "metadata": {},
   "source": [
    "\n",
    "---\n",
    "# 🚀 First Project: Background with an Object\n",
    "\n",
    "Now that the tools are ready, let’s build a project that displays a **background image** \n",
    "with a **sprite** (like a UFO) using JavaScript and the HTML `<canvas>` element.  \n"
   ]
  },
  {
   "cell_type": "markdown",
   "id": "81ca33f1",
   "metadata": {},
   "source": [
    "\n",
    "## 📝 Frontmatter (used in static site generators)\n",
    "\n",
    "```yaml\n",
    "---\n",
    "layout: base\n",
    "title: Background with Object\n",
    "description: Use JavaScript to have an in motion background.\n",
    "sprite: images/platformer/sprites/flying-ufo.png\n",
    "background: images/platformer/backgrounds/alien_planet1.jpg\n",
    "permalink: /background\n",
    "---\n",
    "```\n"
   ]
  },
  {
   "cell_type": "markdown",
   "id": "56ff00ef",
   "metadata": {},
   "source": [
    "\n",
    "## 🎨 Canvas Setup\n",
    "\n",
    "```html\n",
    "<canvas id=\"world\"></canvas>\n",
    "```\n"
   ]
  },
  {
   "cell_type": "markdown",
   "id": "a825d6a2",
   "metadata": {},
   "source": [
    "\n",
    "## 🖥️ JavaScript Code (with Comments)\n",
    "\n",
    "Here’s the code that loads the background and sprite, making sure both are ready before drawing.\n"
   ]
  },
  {
   "cell_type": "code",
   "execution_count": null,
   "id": "3b3588cb",
   "metadata": {},
   "outputs": [],
   "source": [
    "<script>\n",
    "// 🎨 Get the canvas element from the page\n",
    "const canvas = document.getElementById(\"world\");\n",
    "// ✏️ Set up the 2D drawing context\n",
    "const ctx = canvas.getContext('2d');\n",
    "\n",
    "// 🌌 Create an Image object for the background\n",
    "const backgroundImg = new Image();\n",
    "// 🛸 Create an Image object for the sprite\n",
    "const spriteImg = new Image();\n",
    "\n",
    "// 🔗 Set image sources (linked from frontmatter variables)\n",
    "backgroundImg.src = '{{page.background}}'; \n",
    "spriteImg.src = '{{page.sprite}}';\n",
    "\n",
    "// 📦 Track how many images are loaded\n",
    "let imagesLoaded = 0;\n",
    "\n",
    "// ✅ Background loaded\n",
    "backgroundImg.onload = function() {\n",
    "    imagesLoaded++;\n",
    "    startGameWorld();\n",
    "};\n",
    "\n",
    "// ✅ Sprite loaded\n",
    "spriteImg.onload = function() {\n",
    "    imagesLoaded++;\n",
    "    startGameWorld();\n",
    "};\n",
    "\n",
    "// 🚀 Start the game after both images load\n",
    "function startGameWorld() {\n",
    "    if (imagesLoaded === 2) {\n",
    "        ctx.drawImage(backgroundImg, 0, 0, canvas.width, canvas.height); // Draw background\n",
    "        ctx.drawImage(spriteImg, 50, 50); // Draw sprite\n",
    "    }\n",
    "}\n",
    "</script>"
   ]
  },
  {
   "cell_type": "markdown",
   "id": "fecd30a4",
   "metadata": {},
   "source": [
    "\n",
    "## ✅ Next Steps\n",
    "\n",
    "- Try swapping out the `background` image for a different one.  \n",
    "- Replace the `sprite` with your own character or object.  \n",
    "- Experiment with animation: make the background scroll or the sprite move.  \n",
    "\n",
    "This blog shows how I set up my **AP CSP environment** and created my **first interactive project**. 🎉  \n"
   ]
  }
 ],
 "metadata": {},
 "nbformat": 4,
 "nbformat_minor": 5
}